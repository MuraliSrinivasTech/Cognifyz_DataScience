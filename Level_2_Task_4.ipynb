{
  "nbformat": 4,
  "nbformat_minor": 0,
  "metadata": {
    "colab": {
      "provenance": [],
      "authorship_tag": "ABX9TyM9wgiaBR6fn+6HsA3UI+WR",
      "include_colab_link": true
    },
    "kernelspec": {
      "name": "python3",
      "display_name": "Python 3"
    },
    "language_info": {
      "name": "python"
    }
  },
  "cells": [
    {
      "cell_type": "markdown",
      "metadata": {
        "id": "view-in-github",
        "colab_type": "text"
      },
      "source": [
        "<a href=\"https://colab.research.google.com/github/MuraliSrinivasTech/Cognifyz_DataScience/blob/main/Level_2_Task_4.ipynb\" target=\"_parent\"><img src=\"https://colab.research.google.com/assets/colab-badge.svg\" alt=\"Open In Colab\"/></a>"
      ]
    },
    {
      "cell_type": "code",
      "execution_count": 1,
      "metadata": {
        "id": "-xdaH606grDt"
      },
      "outputs": [],
      "source": [
        "import pandas as pd"
      ]
    },
    {
      "cell_type": "code",
      "source": [
        "df = pd.read_csv('Dataset.csv')"
      ],
      "metadata": {
        "id": "MdP4E6qnlJT6"
      },
      "execution_count": 2,
      "outputs": []
    },
    {
      "cell_type": "code",
      "source": [
        "chains = df['Restaurant Name'].value_counts()\n",
        "restaurant_chains = chains[chains > 1].index.tolist()\n",
        "chains_df = df[df['Restaurant Name'].isin(restaurant_chains)]"
      ],
      "metadata": {
        "id": "6-Ymjc17lJh9"
      },
      "execution_count": 3,
      "outputs": []
    },
    {
      "cell_type": "code",
      "source": [
        "chain_analysis = chains_df.groupby('Restaurant Name').agg(\n",
        "    avg_rating=('Aggregate rating', 'mean'),\n",
        "    total_votes=('Votes', 'sum')\n",
        ").reset_index()"
      ],
      "metadata": {
        "id": "Ai1m1aYhlW5_"
      },
      "execution_count": 4,
      "outputs": []
    },
    {
      "cell_type": "code",
      "source": [
        "top_chains_by_rating = chain_analysis.sort_values(by='avg_rating', ascending=False)\n",
        "top_chains_by_popularity = chain_analysis.sort_values(by='total_votes', ascending=False)"
      ],
      "metadata": {
        "id": "dIBPNpXclJrj"
      },
      "execution_count": 5,
      "outputs": []
    },
    {
      "cell_type": "code",
      "source": [
        "print(\"Top Chains by Average Rating:\")\n",
        "print(top_chains_by_rating.head())\n",
        "\n",
        "print(\"\\nTop Chains by Popularity (Total Votes):\")\n",
        "print(top_chains_by_popularity.head())"
      ],
      "metadata": {
        "colab": {
          "base_uri": "https://localhost:8080/"
        },
        "id": "8rV0erjunBiV",
        "outputId": "e6eb692a-3b2f-414d-d9e7-09366a96a132"
      },
      "execution_count": 6,
      "outputs": [
        {
          "output_type": "stream",
          "name": "stdout",
          "text": [
            "Top Chains by Average Rating:\n",
            "               Restaurant Name  avg_rating  total_votes\n",
            "629           Talaga Sampireun       4.900         5514\n",
            "589           Silantro Fil-Mex       4.850         1364\n",
            "8      AB's Absolute Barbecues       4.850         3151\n",
            "7    AB's - Absolute Barbecues       4.825        13400\n",
            "449         Naturals Ice Cream       4.800         3094\n",
            "\n",
            "Top Chains by Popularity (Total Votes):\n",
            "               Restaurant Name  avg_rating  total_votes\n",
            "62             Barbeque Nation    4.353846        28142\n",
            "7    AB's - Absolute Barbecues    4.825000        13400\n",
            "79                   Big Chill    4.475000        10853\n",
            "239                 Farzi Cafe    4.366667        10098\n",
            "692                   Truffles    3.950000         9682\n"
          ]
        }
      ]
    }
  ]
}
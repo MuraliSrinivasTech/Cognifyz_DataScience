{
  "nbformat": 4,
  "nbformat_minor": 0,
  "metadata": {
    "colab": {
      "provenance": [],
      "authorship_tag": "ABX9TyNXl/do+zD3RoVz3T/lvfNB",
      "include_colab_link": true
    },
    "kernelspec": {
      "name": "python3",
      "display_name": "Python 3"
    },
    "language_info": {
      "name": "python"
    }
  },
  "cells": [
    {
      "cell_type": "markdown",
      "metadata": {
        "id": "view-in-github",
        "colab_type": "text"
      },
      "source": [
        "<a href=\"https://colab.research.google.com/github/MuraliSrinivasTech/Cognifyz_DataScience/blob/main/Level_2_Task_2.ipynb\" target=\"_parent\"><img src=\"https://colab.research.google.com/assets/colab-badge.svg\" alt=\"Open In Colab\"/></a>"
      ]
    },
    {
      "cell_type": "code",
      "execution_count": 1,
      "metadata": {
        "id": "Bc4u6Drigj7G"
      },
      "outputs": [],
      "source": [
        "import pandas as pd"
      ]
    },
    {
      "cell_type": "code",
      "source": [
        "df = pd.read_csv('Dataset.csv')"
      ],
      "metadata": {
        "id": "1ZQsI3cajch4"
      },
      "execution_count": 3,
      "outputs": []
    },
    {
      "cell_type": "code",
      "source": [
        "df['cuisine_combination'] = df['Cuisines'].astype(str).apply(lambda x: ', '.join(sorted(x.split(', ')))) # Convert the 'Cuisines' column to string type before applying the lambda function.\n",
        "combination_counts = df['cuisine_combination'].value_counts()"
      ],
      "metadata": {
        "id": "7GnYuXWXiv6c"
      },
      "execution_count": 5,
      "outputs": []
    },
    {
      "cell_type": "code",
      "source": [
        "most_common_combinations = combination_counts.head(10)\n",
        "print(\"Most Common Cuisine Combinations:\")\n",
        "print(most_common_combinations)"
      ],
      "metadata": {
        "colab": {
          "base_uri": "https://localhost:8080/"
        },
        "id": "EgKkdhOriv96",
        "outputId": "c4f6a816-6d2b-42f8-e2ee-f21dd7219518"
      },
      "execution_count": 6,
      "outputs": [
        {
          "output_type": "stream",
          "name": "stdout",
          "text": [
            "Most Common Cuisine Combinations:\n",
            "cuisine_combination\n",
            "North Indian                      936\n",
            "Chinese, North Indian             616\n",
            "Mughlai, North Indian             394\n",
            "Chinese                           354\n",
            "Fast Food                         354\n",
            "Chinese, Mughlai, North Indian    306\n",
            "Cafe                              299\n",
            "Bakery                            218\n",
            "Bakery, Desserts                  181\n",
            "Chinese, Fast Food                159\n",
            "Name: count, dtype: int64\n"
          ]
        }
      ]
    },
    {
      "cell_type": "code",
      "source": [
        "average_ratings = df.groupby('cuisine_combination')['Aggregate rating'].mean()\n",
        "\n",
        "combination_analysis = pd.DataFrame({\n",
        "    'Count': combination_counts,\n",
        "    'Average Rating': average_ratings\n",
        "})\n",
        "\n",
        "top_rated_combinations = combination_analysis.sort_values(by='Average Rating', ascending=False).head(10)"
      ],
      "metadata": {
        "id": "H18wKVZLi-HS"
      },
      "execution_count": 7,
      "outputs": []
    },
    {
      "cell_type": "code",
      "source": [
        "print(\"\\nTop Rated Cuisine Combinations:\")\n",
        "print(top_rated_combinations)"
      ],
      "metadata": {
        "colab": {
          "base_uri": "https://localhost:8080/"
        },
        "id": "MGAVDVKYi-Qg",
        "outputId": "54ceb668-5f59-4185-c3b1-f8547110d7e4"
      },
      "execution_count": 8,
      "outputs": [
        {
          "output_type": "stream",
          "name": "stdout",
          "text": [
            "\n",
            "Top Rated Cuisine Combinations:\n",
            "                              Count  Average Rating\n",
            "cuisine_combination                                \n",
            "Hawaiian, Seafood                 1             4.9\n",
            "American, Caribbean, Seafood      1             4.9\n",
            "American, BBQ, Sandwich           1             4.9\n",
            "Indonesian, Sunda                 3             4.9\n",
            "Bakery, Continental, Italian      1             4.9\n",
            "American, Sandwich, Tea           1             4.9\n",
            "Deli, Italian                     1             4.9\n",
            "Asian, European, Indian           1             4.9\n",
            "BBQ, Breakfast, Southern          1             4.9\n",
            "Contemporary, European            1             4.9\n"
          ]
        }
      ]
    }
  ]
}
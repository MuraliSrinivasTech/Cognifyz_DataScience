{
  "nbformat": 4,
  "nbformat_minor": 0,
  "metadata": {
    "colab": {
      "provenance": [],
      "authorship_tag": "ABX9TyPQk/eKWLD1KLIG897iPHXp",
      "include_colab_link": true
    },
    "kernelspec": {
      "name": "python3",
      "display_name": "Python 3"
    },
    "language_info": {
      "name": "python"
    }
  },
  "cells": [
    {
      "cell_type": "markdown",
      "metadata": {
        "id": "view-in-github",
        "colab_type": "text"
      },
      "source": [
        "<a href=\"https://colab.research.google.com/github/MuraliSrinivasTech/Cognifyz_DataScience/blob/main/Level_1_Task_4.ipynb\" target=\"_parent\"><img src=\"https://colab.research.google.com/assets/colab-badge.svg\" alt=\"Open In Colab\"/></a>"
      ]
    },
    {
      "cell_type": "code",
      "source": [
        "import pandas as pd"
      ],
      "metadata": {
        "id": "ByxC1qV_cFy0"
      },
      "execution_count": 1,
      "outputs": []
    },
    {
      "cell_type": "code",
      "source": [
        "df = pd.read_csv('Dataset.csv')\n",
        "\n",
        "online_delivery_counts = df['Has Online delivery'].value_counts()\n",
        "percentage_online_delivery = (online_delivery_counts['Yes'] / len(df)) * 100\n",
        "\n",
        "average_rating_with_delivery = df[df['Has Online delivery'] == 'Yes']['Aggregate rating'].mean()\n",
        "average_rating_without_delivery = df[df['Has Online delivery'] == 'No']['Aggregate rating'].mean()\n"
      ],
      "metadata": {
        "id": "QncI-X0fcIQD"
      },
      "execution_count": 2,
      "outputs": []
    },
    {
      "cell_type": "code",
      "execution_count": 3,
      "metadata": {
        "colab": {
          "base_uri": "https://localhost:8080/"
        },
        "id": "fuAFMw8eZ9RT",
        "outputId": "9968de27-0f10-489c-de69-aaf60b156f4c"
      },
      "outputs": [
        {
          "output_type": "stream",
          "name": "stdout",
          "text": [
            "Percentage of restaurants that offer online delivery: 25.66%\n",
            "Average rating of restaurants with online delivery: 3.25\n",
            "Average rating of restaurants without online delivery: 2.47\n"
          ]
        }
      ],
      "source": [
        "print(f\"Percentage of restaurants that offer online delivery: {percentage_online_delivery:.2f}%\")\n",
        "print(f\"Average rating of restaurants with online delivery: {average_rating_with_delivery:.2f}\")\n",
        "print(f\"Average rating of restaurants without online delivery: {average_rating_without_delivery:.2f}\")\n"
      ]
    }
  ]
}
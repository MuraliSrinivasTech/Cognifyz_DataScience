{
  "nbformat": 4,
  "nbformat_minor": 0,
  "metadata": {
    "colab": {
      "provenance": [],
      "authorship_tag": "ABX9TyOKN2dxKWK1leRxSuu/UVYD",
      "include_colab_link": true
    },
    "kernelspec": {
      "name": "python3",
      "display_name": "Python 3"
    },
    "language_info": {
      "name": "python"
    }
  },
  "cells": [
    {
      "cell_type": "markdown",
      "metadata": {
        "id": "view-in-github",
        "colab_type": "text"
      },
      "source": [
        "<a href=\"https://colab.research.google.com/github/MuraliSrinivasTech/Cognifyz_DataScience/blob/main/Level_1_Task_2.ipynb\" target=\"_parent\"><img src=\"https://colab.research.google.com/assets/colab-badge.svg\" alt=\"Open In Colab\"/></a>"
      ]
    },
    {
      "cell_type": "code",
      "execution_count": 1,
      "metadata": {
        "id": "Dp_E7c4XZiZK"
      },
      "outputs": [],
      "source": [
        "import pandas as pd"
      ]
    },
    {
      "cell_type": "code",
      "source": [
        "df = pd.read_csv('Dataset.csv')\n",
        "city_counts = df['City'].value_counts()\n",
        "city_with_most_restaurants = city_counts.idxmax()\n",
        "average_ratings = df.groupby('City')['Aggregate rating'].mean()\n",
        "city_with_highest_avg_rating = average_ratings.idxmax()\n",
        "highest_avg_rating = average_ratings.max()"
      ],
      "metadata": {
        "id": "dfdH9zBXaQOe"
      },
      "execution_count": 4,
      "outputs": []
    },
    {
      "cell_type": "code",
      "source": [
        "print(f\"City with the highest number of restaurants: {city_with_most_restaurants} ({city_counts.max()} restaurants)\")\n",
        "print(\"\\nAverage rating for rest\")"
      ],
      "metadata": {
        "colab": {
          "base_uri": "https://localhost:8080/"
        },
        "id": "GzvsR26PaW5G",
        "outputId": "b0afebf5-f948-47ba-9f5e-27d4e295c7a4"
      },
      "execution_count": 6,
      "outputs": [
        {
          "output_type": "stream",
          "name": "stdout",
          "text": [
            "City with the highest number of restaurants: New Delhi (5473 restaurants)\n",
            "\n",
            "Average rating for rest\n"
          ]
        }
      ]
    }
  ]
}
{
  "nbformat": 4,
  "nbformat_minor": 0,
  "metadata": {
    "colab": {
      "provenance": [],
      "authorship_tag": "ABX9TyMw9+cj8yEyP19QHv/auVpq",
      "include_colab_link": true
    },
    "kernelspec": {
      "name": "python3",
      "display_name": "Python 3"
    },
    "language_info": {
      "name": "python"
    }
  },
  "cells": [
    {
      "cell_type": "markdown",
      "metadata": {
        "id": "view-in-github",
        "colab_type": "text"
      },
      "source": [
        "<a href=\"https://colab.research.google.com/github/MuraliSrinivasTech/Cognifyz_DataScience/blob/main/Level_1_Task_1.ipynb\" target=\"_parent\"><img src=\"https://colab.research.google.com/assets/colab-badge.svg\" alt=\"Open In Colab\"/></a>"
      ]
    },
    {
      "cell_type": "code",
      "execution_count": 1,
      "metadata": {
        "id": "fRICgfLYYJrX"
      },
      "outputs": [],
      "source": [
        "import pandas as pd"
      ]
    },
    {
      "cell_type": "code",
      "source": [
        "df = pd.read_csv('Dataset.csv')\n",
        "cuisine_counts = df['Cuisines'].value_counts()\n",
        "top_three_cuisines = cuisine_counts.head(3)"
      ],
      "metadata": {
        "id": "jjU4wbZ7YtN_"
      },
      "execution_count": 4,
      "outputs": []
    },
    {
      "cell_type": "code",
      "source": [
        "total_restaurants = len(df)\n",
        "cuisine_percentages = (top_three_cuisines / total_restaurants) * 100\n",
        "\n",
        "print(\"Top 3 Cuisines and Their Percentages:\")\n",
        "for cuisine, count in top_three_cuisines.items():\n",
        "    print(f\"{cuisine}: {cuisine_percentages[cuisine]:.2f}%\")\n"
      ],
      "metadata": {
        "colab": {
          "base_uri": "https://localhost:8080/"
        },
        "id": "l_YwYxWCYuJo",
        "outputId": "db04005e-9427-434b-8869-fcb1ce396554"
      },
      "execution_count": 5,
      "outputs": [
        {
          "output_type": "stream",
          "name": "stdout",
          "text": [
            "Top 3 Cuisines and Their Percentages:\n",
            "North Indian: 9.80%\n",
            "North Indian, Chinese: 5.35%\n",
            "Chinese: 3.71%\n"
          ]
        }
      ]
    }
  ]
}